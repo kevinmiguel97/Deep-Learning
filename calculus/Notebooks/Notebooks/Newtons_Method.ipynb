{
  "nbformat": 4,
  "nbformat_minor": 0,
  "metadata": {
    "colab": {
      "provenance": [

      ]
    },
    "kernelspec": {
      "name": "python3",
      "display_name": "Python 3"
    },
    "language_info": {
      "name": "python"
    },
    "sc": "KAHmaQAnZ5YL60VOLHThGA"
  },
  "cells": [
    {
      "cell_type": "code",
      "execution_count": null,
      "metadata": {
        "id": "BeFaeTUc35Z7"
      },
      "outputs": [

      ],
      "source": [
        "import numpy as np\n",
        "import matplotlib.pyplot as plt"
      ]
    },
    {
      "cell_type": "code",
      "source": [
        "x = np.linspace(-2, 2, 100)\n",
        "y = -0.5 * 9.8 * x ** 2 + 2 * x + 1"
      ],
      "metadata": {
        "id": "fZ6DVey13823"
      },
      "execution_count": null,
      "outputs": [

      ]
    },
    {
      "cell_type": "code",
      "source": [
        "plt.axhline(y=0, color='k')\n",
        "plt.axvline(x=0, color='k')\n",
        "plt.grid()\n",
        "plt.plot(x, y);"
      ],
      "metadata": {
        "colab": {
          "base_uri": "https://localhost:8080/",
          "height": 265
        },
        "id": "NZX3xaDr4B70",
        "outputId": "6be30e81-9505-4171-81ec-8b9b8e1d5543"
      },
      "execution_count": null,
      "outputs": [
        {
          "output_type": "display_data",
          "data": {
            "text/plain": [
              "<Figure size 432x288 with 1 Axes>"
            ],
            "image/png": "[encoded data removed]"
          },
          "metadata": {
            "needs_background": "light"
          }
        }
      ]
    },
    {
      "cell_type": "code",
      "source": [
        "# initial guess\n",
        "x_old = -1\n",
        "\n",
        "# the function\n",
        "def func(x):\n",
        "  return -0.5 * 9.8 * x ** 2 + 2 * x + 1\n",
        "\n",
        "# the derivative\n",
        "def derivative(x):\n",
        "  return -0.5 * 9.8 * 2 * x + 2\n",
        "\n",
        "# the algorithm\n",
        "while True:\n",
        "  x_new = x_old - func(x_old) / derivative(x_old)\n",
        "  print(x_new)\n",
        "\n",
        "  # stop when the value of x hasn't changed too much\n",
        "  if np.abs(x_new - x_old) < 1e-10:\n",
        "    break\n",
        "  \n",
        "  # don't forget to reassign x_old for the next step!\n",
        "  x_old = x_new\n",
        "\n",
        "# print the final answer\n",
        "print(\"answer:\", x_new)\n",
        "\n",
        "# save for later\n",
        "answer1 = x_new"
      ],
      "metadata": {
        "colab": {
          "base_uri": "https://localhost:8080/"
        },
        "id": "PNBWscZA4DJS",
        "outputId": "6e3bcf88-adf6-43d2-b781-f9d148ccf895"
      },
      "execution_count": null,
      "outputs": [
        {
          "output_type": "stream",
          "name": "stdout",
          "text": [
            "-0.5\n",
            "-0.322463768115942\n",
            "-0.2925336675153506\n",
            "-0.29163175116112455\n",
            "-0.2916309306737859\n",
            "-0.2916309306731069\n",
            "answer: -0.2916309306731069\n"
          ]
        }
      ]
    },
    {
      "cell_type": "code",
      "source": [
        "# initial guess\n",
        "x_old = 1\n",
        "\n",
        "# don't need to define the function / its derivative again\n",
        "\n",
        "# the algorithm\n",
        "while True:\n",
        "  x_new = x_old - func(x_old) / derivative(x_old)\n",
        "  print(x_new)\n",
        "\n",
        "  # stop when the value of x hasn't changed too much\n",
        "  if np.abs(x_new - x_old) < 1e-10:\n",
        "    break\n",
        "  \n",
        "  # don't forget to reassign x_old for the next step!\n",
        "  x_old = x_new\n",
        "\n",
        "# print the final answer\n",
        "print(\"answer:\", x_new)\n",
        "\n",
        "# save for later\n",
        "answer2 = x_new"
      ],
      "metadata": {
        "colab": {
          "base_uri": "https://localhost:8080/"
        },
        "id": "JBbyvkuK4s-S",
        "outputId": "0a36c290-238f-4a1f-e165-3f142ebb9790"
      },
      "execution_count": null,
      "outputs": [
        {
          "output_type": "stream",
          "name": "stdout",
          "text": [
            "0.7564102564102564\n",
            "0.7026958908768477\n",
            "0.6998026392127912\n",
            "0.6997941960511329\n",
            "0.6997941959792293\n",
            "answer: 0.6997941959792293\n"
          ]
        }
      ]
    },
    {
      "cell_type": "code",
      "source": [
        "# check the answers\n",
        "a = -0.5 * 9.8\n",
        "b = 2\n",
        "c = 1\n",
        "\n",
        "discriminant = b * b - 4 * a * c\n",
        "true_answer1 = (-b + np.sqrt(discriminant)) / (2 * a)\n",
        "true_answer2 = (-b - np.sqrt(discriminant)) / (2 * a)\n",
        "print(\"newton 1:\", answer1)\n",
        "print(\"true 1:\", true_answer1)\n",
        "print(\"newton 2:\", answer2)\n",
        "print(\"true 2:\", true_answer2)"
      ],
      "metadata": {
        "colab": {
          "base_uri": "https://localhost:8080/"
        },
        "id": "90YTGJ_r5EL7",
        "outputId": "3685e35a-24f1-4572-e303-886f795048f8"
      },
      "execution_count": null,
      "outputs": [
        {
          "output_type": "stream",
          "name": "stdout",
          "text": [
            "newton 1: -0.2916309306731069\n",
            "true 1: -0.29163093067310686\n",
            "newton 2: 0.6997941959792293\n",
            "true 2: 0.6997941959792293\n"
          ]
        }
      ]
    },
    {
      "cell_type": "code",
      "source": [
        "# initial guess\n",
        "x_old = 1\n",
        "\n",
        "# 2nd derivative\n",
        "def derivative2(x):\n",
        "  return -0.5 * 9.8 * 2\n",
        "\n",
        "# the algorithm\n",
        "while True:\n",
        "  x_new = x_old - derivative(x_old) / derivative2(x_old)\n",
        "  print(x_new)\n",
        "\n",
        "  # stop when the value of x hasn't changed too much\n",
        "  if np.abs(x_new - x_old) < 1e-10:\n",
        "    break\n",
        "  \n",
        "  # don't forget to reassign x_old for the next step!\n",
        "  x_old = x_new\n",
        "\n",
        "# print the final answer\n",
        "print(\"answer:\", x_new)"
      ],
      "metadata": {
        "colab": {
          "base_uri": "https://localhost:8080/"
        },
        "id": "wWbBhUoX5vAC",
        "outputId": "451299d0-a0f6-43e9-80e6-229b80693364"
      },
      "execution_count": null,
      "outputs": [
        {
          "output_type": "stream",
          "name": "stdout",
          "text": [
            "0.20408163265306123\n",
            "0.20408163265306123\n",
            "answer: 0.20408163265306123\n"
          ]
        }
      ]
    },
    {
      "cell_type": "code",
      "source": [
        "plt.axhline(y=0, color='k')\n",
        "plt.axvline(x=0, color='k')\n",
        "plt.grid()\n",
        "plt.scatter([x_new], [func(x_new)], c='red')\n",
        "plt.plot(x, y);"
      ],
      "metadata": {
        "colab": {
          "base_uri": "https://localhost:8080/",
          "height": 265
        },
        "id": "vz4Ad8Rd2KqL",
        "outputId": "56077484-a16e-4ff5-d47d-dc4c201afcce"
      },
      "execution_count": null,
      "outputs": [
        {
          "output_type": "display_data",
          "data": {
            "text/plain": [
              "<Figure size 432x288 with 1 Axes>"
            ],
            "image/png": "[encoded data removed]"
          },
          "metadata": {
            "needs_background": "light"
          }
        }
      ]
    },
    {
      "cell_type": "code",
      "source": [
        "x_opt = 2 / (0.5 * 9.8 * 2)\n",
        "x_opt"
      ],
      "metadata": {
        "colab": {
          "base_uri": "https://localhost:8080/"
        },
        "id": "Yj3R5Whv2RCX",
        "outputId": "397ea4ee-8c37-4183-aee5-7143574d24d8"
      },
      "execution_count": null,
      "outputs": [
        {
          "output_type": "execute_result",
          "data": {
            "text/plain": [
              "0.2040816326530612"
            ]
          },
          "metadata": {
          },
          "execution_count": 10
        }
      ]
    },
    {
      "cell_type": "code",
      "source": [

      ],
      "metadata": {
        "id": "rtAlouf92iCk"
      },
      "execution_count": null,
      "outputs": [

      ]
    },
    {
      "cell_type": "code",
      "source": [

      ],
      "metadata": {
        "id": "S0acXBWCxiJL"
      },
      "execution_count": null,
      "outputs": [

      ]
    },
    {
      "cell_type": "code",
      "source": [

      ],
      "metadata": {
        "id": "oaG3igwFxiQU"
      },
      "execution_count": null,
      "outputs": [

      ]
    },
    {
      "cell_type": "code",
      "source": [

      ],
      "metadata": {
        "id": "PzQJleyoxiWi"
      },
      "execution_count": null,
      "outputs": [

      ]
    },
    {
      "cell_type": "markdown",
      "source": [
        "![](https://deeplearningcourses.com/notebooks_v3_pxl?sc=KAHmaQAnZ5YL60VOLHThGA&n=Newton%27s+Method)"
      ],
      "metadata": {
        "id": "PFJd4PmsxjKb"
      }
    }
  ]
}