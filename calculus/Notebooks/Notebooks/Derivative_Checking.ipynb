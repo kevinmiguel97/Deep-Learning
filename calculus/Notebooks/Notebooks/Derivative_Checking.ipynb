{
  "nbformat": 4,
  "nbformat_minor": 0,
  "metadata": {
    "colab": {
      "provenance": [

      ]
    },
    "kernelspec": {
      "name": "python3",
      "display_name": "Python 3"
    },
    "language_info": {
      "name": "python"
    },
    "sc": "KAHmaQAnZ5YL60VOLHThGA"
  },
  "cells": [
    {
      "cell_type": "code",
      "execution_count": null,
      "metadata": {
        "colab": {
          "base_uri": "https://localhost:8080/"
        },
        "id": "Xt5MQqEP2oC9",
        "outputId": "365d2970-c4eb-4a98-f2db-6b1a7ad026cb"
      },
      "outputs": [
        {
          "output_type": "stream",
          "name": "stdout",
          "text": [
            "Estimate: 10.00000082740371\n",
            "True: 10\n"
          ]
        }
      ],
      "source": [
        "# f(x) = x^2\n",
        "# f'(x) = 2x\n",
        "# evaluate at x = 5\n",
        "h = 1e-10\n",
        "x = 5\n",
        "print(\"Estimate:\", ((x + h)**2 - x**2) / h)\n",
        "print(\"True:\", 2*x)"
      ]
    },
    {
      "cell_type": "code",
      "source": [
        "# f(x) = x^3\n",
        "# f'(x) = 3x^2\n",
        "# evaluate at x = 2\n",
        "h = 1e-10\n",
        "x = 2\n",
        "print(\"Estimate:\", ((x + h)**3 - x**3) / h)\n",
        "print(\"True:\", 3 * x**2)"
      ],
      "metadata": {
        "colab": {
          "base_uri": "https://localhost:8080/"
        },
        "id": "HkoA-E-K25z0",
        "outputId": "1395b7f6-f96a-456e-f047-f51731f3847f"
      },
      "execution_count": null,
      "outputs": [
        {
          "output_type": "stream",
          "name": "stdout",
          "text": [
            "Estimate: 12.000000992884452\n",
            "True: 12\n"
          ]
        }
      ]
    },
    {
      "cell_type": "code",
      "source": [
        "# f(x) = 1 / x\n",
        "# f'(x) = -1 / x^2\n",
        "# evaluate at x = 1\n",
        "h = 1e-10\n",
        "x = 1\n",
        "print(\"Estimate:\", (1 / (x + h) - 1 / x) / h)\n",
        "print(\"True:\", -1 / x**2)"
      ],
      "metadata": {
        "colab": {
          "base_uri": "https://localhost:8080/"
        },
        "id": "BXbO_zvx3RtU",
        "outputId": "beffaf2b-93a7-43bf-ce48-bb1d405bff43"
      },
      "execution_count": null,
      "outputs": [
        {
          "output_type": "stream",
          "name": "stdout",
          "text": [
            "Estimate: -1.000000082740371\n",
            "True: -1.0\n"
          ]
        }
      ]
    },
    {
      "cell_type": "code",
      "source": [
        "import math\n",
        "# f(x) = sqrt(x)\n",
        "# f'(x) = 0.5 / sqrt(x)\n",
        "# evaluate at x = 3\n",
        "h = 1e-10\n",
        "x = 3\n",
        "print(\"Estimate:\", (math.sqrt(x + h) - math.sqrt(x)) / h)\n",
        "print(\"True:\", 0.5 / math.sqrt(x))"
      ],
      "metadata": {
        "colab": {
          "base_uri": "https://localhost:8080/"
        },
        "id": "sQiqM8Gv3isf",
        "outputId": "6b20b2c5-86ca-4b44-ed8c-8c116ed4a723"
      },
      "execution_count": null,
      "outputs": [
        {
          "output_type": "stream",
          "name": "stdout",
          "text": [
            "Estimate: 0.2886757499709347\n",
            "True: 0.2886751345948129\n"
          ]
        }
      ]
    },
    {
      "cell_type": "code",
      "source": [
        "# Exercise: try the 2-sided method"
      ],
      "metadata": {
        "id": "fHoNZUfT3yX5"
      },
      "execution_count": null,
      "outputs": [

      ]
    },
    {
      "cell_type": "code",
      "source": [

      ],
      "metadata": {
        "id": "S0acXBWCxiJL"
      },
      "execution_count": null,
      "outputs": [

      ]
    },
    {
      "cell_type": "code",
      "source": [

      ],
      "metadata": {
        "id": "oaG3igwFxiQU"
      },
      "execution_count": null,
      "outputs": [

      ]
    },
    {
      "cell_type": "code",
      "source": [

      ],
      "metadata": {
        "id": "PzQJleyoxiWi"
      },
      "execution_count": null,
      "outputs": [

      ]
    },
    {
      "cell_type": "markdown",
      "source": [
        "![](https://deeplearningcourses.com/notebooks_v3_pxl?sc=KAHmaQAnZ5YL60VOLHThGA&n=Derivative+Checking)"
      ],
      "metadata": {
        "id": "PFJd4PmsxjKb"
      }
    }
  ]
}