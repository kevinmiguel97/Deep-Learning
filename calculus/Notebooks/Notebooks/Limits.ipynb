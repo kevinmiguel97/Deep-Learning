{
  "nbformat": 4,
  "nbformat_minor": 0,
  "metadata": {
    "colab": {
      "provenance": [

      ]
    },
    "kernelspec": {
      "name": "python3",
      "display_name": "Python 3"
    },
    "language_info": {
      "name": "python"
    },
    "sc": "KAHmaQAnZ5YL60VOLHThGA"
  },
  "cells": [
    {
      "cell_type": "code",
      "execution_count": null,
      "metadata": {
        "id": "d5PY4b4jvSz3"
      },
      "outputs": [

      ],
      "source": [
        "import numpy as np\n",
        "import matplotlib.pyplot as plt"
      ]
    },
    {
      "cell_type": "markdown",
      "source": [
        "**$ \\lim\\limits_{x \\to \\infty} \\frac{1}{x} = 0$**"
      ],
      "metadata": {
        "id": "ojJPX2HhvWyx"
      }
    },
    {
      "cell_type": "code",
      "source": [
        "x = np.linspace(1, 100, 1000)\n",
        "y = 1 / x"
      ],
      "metadata": {
        "id": "FZrUUS2Kv8Gf"
      },
      "execution_count": null,
      "outputs": [

      ]
    },
    {
      "cell_type": "code",
      "source": [
        "plt.axhline(y=0, color='k')\n",
        "plt.axvline(x=0, color='k')\n",
        "plt.grid()\n",
        "plt.plot(x, y);"
      ],
      "metadata": {
        "colab": {
          "base_uri": "https://localhost:8080/",
          "height": 265
        },
        "id": "yBElkuODwEaZ",
        "outputId": "3addae4a-a77f-4463-cbc5-fb128044ba53"
      },
      "execution_count": null,
      "outputs": [
        {
          "output_type": "display_data",
          "data": {
            "text/plain": [
              "<Figure size 432x288 with 1 Axes>"
            ],
            "image/png": "[encoded data removed]"
          },
          "metadata": {
            "needs_background": "light"
          }
        }
      ]
    },
    {
      "cell_type": "code",
      "source": [
        "x = 1e100\n",
        "1/x"
      ],
      "metadata": {
        "colab": {
          "base_uri": "https://localhost:8080/"
        },
        "id": "qAR8k18vvUqk",
        "outputId": "f7a949d1-15fa-4a1b-e147-c28342facd49"
      },
      "execution_count": null,
      "outputs": [
        {
          "output_type": "execute_result",
          "data": {
            "text/plain": [
              "1e-100"
            ]
          },
          "metadata": {
          },
          "execution_count": 4
        }
      ]
    },
    {
      "cell_type": "code",
      "source": [
        "x = 1e500\n",
        "1/x"
      ],
      "metadata": {
        "colab": {
          "base_uri": "https://localhost:8080/"
        },
        "id": "-4q8-cPfvxy7",
        "outputId": "80b0fed7-a081-461c-c580-7ab12493528e"
      },
      "execution_count": null,
      "outputs": [
        {
          "output_type": "execute_result",
          "data": {
            "text/plain": [
              "0.0"
            ]
          },
          "metadata": {
          },
          "execution_count": 5
        }
      ]
    },
    {
      "cell_type": "markdown",
      "source": [
        "$ \\lim\\limits_{x \\to \\pi / 2} \\tan(x) = DNE$"
      ],
      "metadata": {
        "id": "Ge2JDudkwTr-"
      }
    },
    {
      "cell_type": "code",
      "source": [
        "x = np.linspace(-2 * np.pi, 2 * np.pi, 100000)\n",
        "y = np.tan(x)"
      ],
      "metadata": {
        "id": "wbRsSIPQwaGb"
      },
      "execution_count": null,
      "outputs": [

      ]
    },
    {
      "cell_type": "code",
      "source": [
        "plt.axhline(y=0, color='k')\n",
        "plt.axvline(x=0, color='k')\n",
        "plt.grid()\n",
        "plt.plot(x, y);"
      ],
      "metadata": {
        "colab": {
          "base_uri": "https://localhost:8080/",
          "height": 265
        },
        "id": "AyTyF_gcwdGW",
        "outputId": "4d1de488-8ac0-487c-a4dd-7625017f852a"
      },
      "execution_count": null,
      "outputs": [
        {
          "output_type": "display_data",
          "data": {
            "text/plain": [
              "<Figure size 432x288 with 1 Axes>"
            ],
            "image/png": "[encoded data removed]"
          },
          "metadata": {
            "needs_background": "light"
          }
        }
      ]
    },
    {
      "cell_type": "code",
      "source": [
        "x = np.pi / 2 - 1e-10\n",
        "np.tan(x)"
      ],
      "metadata": {
        "colab": {
          "base_uri": "https://localhost:8080/"
        },
        "id": "Qdh3v26uv14D",
        "outputId": "e4f825a3-5940-42b5-c292-6550c8e003c4"
      },
      "execution_count": null,
      "outputs": [
        {
          "output_type": "execute_result",
          "data": {
            "text/plain": [
              "9999993049.367125"
            ]
          },
          "metadata": {
          },
          "execution_count": 8
        }
      ]
    },
    {
      "cell_type": "code",
      "source": [
        "x = np.pi / 2 + 1e-10\n",
        "np.tan(x)"
      ],
      "metadata": {
        "colab": {
          "base_uri": "https://localhost:8080/"
        },
        "id": "z2CGGz_nwg-q",
        "outputId": "e851b425-71f2-49c5-9304-fa07d50e37a1"
      },
      "execution_count": null,
      "outputs": [
        {
          "output_type": "execute_result",
          "data": {
            "text/plain": [
              "-10000005295.83309"
            ]
          },
          "metadata": {
          },
          "execution_count": 9
        }
      ]
    },
    {
      "cell_type": "markdown",
      "source": [
        "$ \\lim\\limits_{x \\to \\infty} \\frac{\\ln x}{x} = 0$"
      ],
      "metadata": {
        "id": "0708BAskw5wi"
      }
    },
    {
      "cell_type": "code",
      "source": [
        "x = 1e100\n",
        "np.log(x) / x"
      ],
      "metadata": {
        "colab": {
          "base_uri": "https://localhost:8080/"
        },
        "id": "FRX_EdWVwi2b",
        "outputId": "3c045ad5-b332-43ff-df6e-1fa21fb5aa54"
      },
      "execution_count": null,
      "outputs": [
        {
          "output_type": "execute_result",
          "data": {
            "text/plain": [
              "2.302585092994046e-98"
            ]
          },
          "metadata": {
          },
          "execution_count": 10
        }
      ]
    },
    {
      "cell_type": "markdown",
      "source": [
        "$ \\lim\\limits_{x \\to \\infty} \\left( 1 + \\frac{1}{x} \\right)^x = e$"
      ],
      "metadata": {
        "id": "ygUq5vTNxTFb"
      }
    },
    {
      "cell_type": "code",
      "source": [
        "np.e"
      ],
      "metadata": {
        "colab": {
          "base_uri": "https://localhost:8080/"
        },
        "id": "-OLA6LzYxCsH",
        "outputId": "ace4fa11-d02d-4fec-ab47-c1c6b2608567"
      },
      "execution_count": null,
      "outputs": [
        {
          "output_type": "execute_result",
          "data": {
            "text/plain": [
              "2.718281828459045"
            ]
          },
          "metadata": {
          },
          "execution_count": 11
        }
      ]
    },
    {
      "cell_type": "code",
      "source": [
        "x = 1e2\n",
        "(1 + 1/x)**x"
      ],
      "metadata": {
        "colab": {
          "base_uri": "https://localhost:8080/"
        },
        "id": "iblnwtRjxbB8",
        "outputId": "ec3a3a2a-62b4-4b23-dc48-ba9da628a845"
      },
      "execution_count": null,
      "outputs": [
        {
          "output_type": "execute_result",
          "data": {
            "text/plain": [
              "2.7048138294215285"
            ]
          },
          "metadata": {
          },
          "execution_count": 12
        }
      ]
    },
    {
      "cell_type": "code",
      "source": [
        "x = 1e3\n",
        "(1 + 1/x)**x"
      ],
      "metadata": {
        "colab": {
          "base_uri": "https://localhost:8080/"
        },
        "id": "72B_AoJWxdus",
        "outputId": "392cecc9-32d5-4423-fae2-f1b3454bb43e"
      },
      "execution_count": null,
      "outputs": [
        {
          "output_type": "execute_result",
          "data": {
            "text/plain": [
              "2.7169239322355936"
            ]
          },
          "metadata": {
          },
          "execution_count": 13
        }
      ]
    },
    {
      "cell_type": "code",
      "source": [
        "x = 1e4\n",
        "(1 + 1/x)**x"
      ],
      "metadata": {
        "colab": {
          "base_uri": "https://localhost:8080/"
        },
        "id": "YS-pxkCsxlm-",
        "outputId": "02fb1c5a-ba0d-48de-c234-869981ae9867"
      },
      "execution_count": null,
      "outputs": [
        {
          "output_type": "execute_result",
          "data": {
            "text/plain": [
              "2.7181459268249255"
            ]
          },
          "metadata": {
          },
          "execution_count": 14
        }
      ]
    },
    {
      "cell_type": "code",
      "source": [
        "x = 1e5\n",
        "(1 + 1/x)**x"
      ],
      "metadata": {
        "colab": {
          "base_uri": "https://localhost:8080/"
        },
        "id": "0KD1YIoQxmMe",
        "outputId": "3a537888-2f35-44fd-a52a-8242e0c2a6eb"
      },
      "execution_count": null,
      "outputs": [
        {
          "output_type": "execute_result",
          "data": {
            "text/plain": [
              "2.7182682371922975"
            ]
          },
          "metadata": {
          },
          "execution_count": 15
        }
      ]
    },
    {
      "cell_type": "code",
      "source": [
        "x = 1e10\n",
        "(1 + 1/x)**x"
      ],
      "metadata": {
        "colab": {
          "base_uri": "https://localhost:8080/"
        },
        "id": "BXyxgYklxm3t",
        "outputId": "c0a592f4-c8e9-483c-8b05-2b6cfb7655c6"
      },
      "execution_count": null,
      "outputs": [
        {
          "output_type": "execute_result",
          "data": {
            "text/plain": [
              "2.7182820532347876"
            ]
          },
          "metadata": {
          },
          "execution_count": 16
        }
      ]
    },
    {
      "cell_type": "code",
      "source": [
        "x = 1e20 # oops! precision problems\n",
        "(1 + 1/x)**x"
      ],
      "metadata": {
        "colab": {
          "base_uri": "https://localhost:8080/"
        },
        "id": "QOIX05QlxnvP",
        "outputId": "4cbe60a3-3c4d-49fb-ee21-7615354f0606"
      },
      "execution_count": null,
      "outputs": [
        {
          "output_type": "execute_result",
          "data": {
            "text/plain": [
              "1.0"
            ]
          },
          "metadata": {
          },
          "execution_count": 17
        }
      ]
    },
    {
      "cell_type": "markdown",
      "source": [
        "**$ \\lim\\limits_{x \\to \\infty} \\frac{\\sin(x)}{x} = 0$**"
      ],
      "metadata": {
        "id": "8V4XVqe9x9o6"
      }
    },
    {
      "cell_type": "code",
      "source": [
        "x = 1e100\n",
        "np.sin(x) / x"
      ],
      "metadata": {
        "colab": {
          "base_uri": "https://localhost:8080/"
        },
        "id": "_U2CazDXxowe",
        "outputId": "571732fd-4fe1-4b4c-9198-a95e00adcaea"
      },
      "execution_count": null,
      "outputs": [
        {
          "output_type": "execute_result",
          "data": {
            "text/plain": [
              "-3.806377310050287e-101"
            ]
          },
          "metadata": {
          },
          "execution_count": 18
        }
      ]
    },
    {
      "cell_type": "markdown",
      "source": [
        "**$ \\lim\\limits_{x \\to 0} \\frac{\\sin(x)}{x} = 1$**"
      ],
      "metadata": {
        "id": "2nPZRI3ByFfY"
      }
    },
    {
      "cell_type": "code",
      "source": [
        "x = 1e-10\n",
        "np.sin(x) / x"
      ],
      "metadata": {
        "colab": {
          "base_uri": "https://localhost:8080/"
        },
        "id": "09UUXEh6yCMm",
        "outputId": "3431b703-d6cd-4d8d-db50-58f66267d726"
      },
      "execution_count": null,
      "outputs": [
        {
          "output_type": "execute_result",
          "data": {
            "text/plain": [
              "1.0"
            ]
          },
          "metadata": {
          },
          "execution_count": 19
        }
      ]
    },
    {
      "cell_type": "code",
      "source": [

      ],
      "metadata": {
        "id": "rkqpW0L5yIeg"
      },
      "execution_count": null,
      "outputs": [

      ]
    },
    {
      "cell_type": "code",
      "source": [

      ],
      "metadata": {
        "id": "S0acXBWCxiJL"
      },
      "execution_count": null,
      "outputs": [

      ]
    },
    {
      "cell_type": "code",
      "source": [

      ],
      "metadata": {
        "id": "oaG3igwFxiQU"
      },
      "execution_count": null,
      "outputs": [

      ]
    },
    {
      "cell_type": "code",
      "source": [

      ],
      "metadata": {
        "id": "PzQJleyoxiWi"
      },
      "execution_count": null,
      "outputs": [

      ]
    },
    {
      "cell_type": "markdown",
      "source": [
        "![](https://deeplearningcourses.com/notebooks_v3_pxl?sc=KAHmaQAnZ5YL60VOLHThGA&n=Limits)"
      ],
      "metadata": {
        "id": "PFJd4PmsxjKb"
      }
    }
  ]
}