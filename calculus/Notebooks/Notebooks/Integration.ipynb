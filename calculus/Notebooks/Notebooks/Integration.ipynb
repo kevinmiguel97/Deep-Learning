{
  "nbformat": 4,
  "nbformat_minor": 0,
  "metadata": {
    "colab": {
      "provenance": [

      ]
    },
    "kernelspec": {
      "name": "python3",
      "display_name": "Python 3"
    },
    "language_info": {
      "name": "python"
    },
    "sc": "KAHmaQAnZ5YL60VOLHThGA"
  },
  "cells": [
    {
      "cell_type": "code",
      "execution_count": null,
      "metadata": {
        "id": "OsDOZJzEAarG"
      },
      "outputs": [

      ],
      "source": [
        "import numpy as np"
      ]
    },
    {
      "cell_type": "code",
      "source": [
        "# what does np.linspace do?\n",
        "np.linspace(0, 3, 10)"
      ],
      "metadata": {
        "colab": {
          "base_uri": "https://localhost:8080/"
        },
        "id": "iwFKSj10CLiZ",
        "outputId": "ad08c321-214f-43d5-9c49-206d5f37ce8f"
      },
      "execution_count": null,
      "outputs": [
        {
          "output_type": "execute_result",
          "data": {
            "text/plain": [
              "array([0.        , 0.33333333, 0.66666667, 1.        , 1.33333333,\n",
              "       1.66666667, 2.        , 2.33333333, 2.66666667, 3.        ])"
            ]
          },
          "metadata": {
          },
          "execution_count": 2
        }
      ]
    },
    {
      "cell_type": "code",
      "source": [
        "# f(x) = x^2\n",
        "# F(x) = (1/3) x^3\n",
        "# find: area from [1, 2]\n",
        "\n",
        "true_area = (1 / 3) * 2**3 - (1 / 3) * 1**3\n",
        "\n",
        "estimated_area = 0 # we will accumulate rectangles\n",
        "x_values = np.linspace(1, 2, 1000)\n",
        "for i in range(len(x_values) - 1):\n",
        "  x1 = x_values[i]\n",
        "  x2 = x_values[i + 1]\n",
        "  width = x2 - x1\n",
        "  x_mid = (x1 + x2) / 2\n",
        "  height = x_mid**2\n",
        "  estimated_area += width * height\n",
        "\n",
        "print(\"true area:\", true_area)\n",
        "print(\"estimated area:\", estimated_area)"
      ],
      "metadata": {
        "colab": {
          "base_uri": "https://localhost:8080/"
        },
        "id": "61rzElfjAgE2",
        "outputId": "becee060-bdf3-465d-b334-e907e2adb4b7"
      },
      "execution_count": null,
      "outputs": [
        {
          "output_type": "stream",
          "name": "stdout",
          "text": [
            "true area: 2.333333333333333\n",
            "estimated area: 2.333333249833083\n"
          ]
        }
      ]
    },
    {
      "cell_type": "code",
      "source": [
        "# f(x) = sin(x)\n",
        "# F(x) = -cos(x)\n",
        "# find: area from [0, pi]\n",
        "\n",
        "true_area = -np.cos(np.pi) - (-np.cos(0))\n",
        "\n",
        "estimated_area = 0 # we will accumulate rectangles\n",
        "x_values = np.linspace(0, np.pi, 1000)\n",
        "for i in range(len(x_values) - 1):\n",
        "  x1 = x_values[i]\n",
        "  x2 = x_values[i + 1]\n",
        "  width = x2 - x1\n",
        "  x_mid = (x1 + x2) / 2\n",
        "  height = np.sin(x_mid)\n",
        "  estimated_area += width * height\n",
        "\n",
        "print(\"true area:\", true_area)\n",
        "print(\"estimated area:\", estimated_area)"
      ],
      "metadata": {
        "colab": {
          "base_uri": "https://localhost:8080/"
        },
        "id": "SCuJZDG5BMl5",
        "outputId": "66606b44-374e-4f39-f581-404323846b67"
      },
      "execution_count": null,
      "outputs": [
        {
          "output_type": "stream",
          "name": "stdout",
          "text": [
            "true area: 2.0\n",
            "estimated area: 2.0000008241146756\n"
          ]
        }
      ]
    },
    {
      "cell_type": "code",
      "source": [
        "# Optional exercise:\n",
        "# investigate functions in Scipy\n",
        "# that do numerical integration"
      ],
      "metadata": {
        "id": "XxMGSkEDB9XX"
      },
      "execution_count": null,
      "outputs": [

      ]
    },
    {
      "cell_type": "code",
      "source": [

      ],
      "metadata": {
        "id": "S0acXBWCxiJL"
      },
      "execution_count": null,
      "outputs": [

      ]
    },
    {
      "cell_type": "code",
      "source": [

      ],
      "metadata": {
        "id": "oaG3igwFxiQU"
      },
      "execution_count": null,
      "outputs": [

      ]
    },
    {
      "cell_type": "code",
      "source": [

      ],
      "metadata": {
        "id": "PzQJleyoxiWi"
      },
      "execution_count": null,
      "outputs": [

      ]
    },
    {
      "cell_type": "markdown",
      "source": [
        "![](https://deeplearningcourses.com/notebooks_v3_pxl?sc=KAHmaQAnZ5YL60VOLHThGA&n=Integration)"
      ],
      "metadata": {
        "id": "PFJd4PmsxjKb"
      }
    }
  ]
}